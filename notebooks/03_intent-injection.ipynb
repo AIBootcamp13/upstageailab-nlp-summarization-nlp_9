{
 "cells": [
  {
   "cell_type": "markdown",
   "id": "0b7dd1e6",
   "metadata": {},
   "source": [
    "# english_dialogue 텍스트에서 핵심 의도를 감지하고, 아래와 같이 의미 태그를 삽입해 입력 품질 개선을 시도\n"
   ]
  },
  {
   "cell_type": "markdown",
   "id": "0f4a9668",
   "metadata": {},
   "source": []
  },
  {
   "cell_type": "code",
   "execution_count": null,
   "id": "0efe03d6",
   "metadata": {},
   "outputs": [],
   "source": []
  },
  {
   "cell_type": "code",
   "execution_count": null,
   "id": "e996a399",
   "metadata": {},
   "outputs": [],
   "source": []
  },
  {
   "cell_type": "code",
   "execution_count": null,
   "id": "ed5a66b4",
   "metadata": {},
   "outputs": [],
   "source": []
  }
 ],
 "metadata": {
  "kernelspec": {
   "display_name": "venv",
   "language": "python",
   "name": "python3"
  },
  "language_info": {
   "name": "python",
   "version": "3.10.13"
  }
 },
 "nbformat": 4,
 "nbformat_minor": 5
}
