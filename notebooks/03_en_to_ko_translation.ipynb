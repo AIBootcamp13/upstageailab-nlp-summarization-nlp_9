{
 "cells": [
  {
   "cell_type": "markdown",
   "id": "0b7dd1e6",
   "metadata": {},
   "source": [
    "# 프롬프트 선정하기 (영어 -> 한국어) \n"
   ]
  },
  {
   "cell_type": "markdown",
   "id": "99aa2741",
   "metadata": {},
   "source": []
  },
  {
   "cell_type": "code",
   "execution_count": 1,
   "id": "0efe03d6",
   "metadata": {},
   "outputs": [
    {
     "name": "stdout",
     "output_type": "stream",
     "text": [
      "✅ 설정이 완료되었습니다.\n"
     ]
    }
   ],
   "source": [
    "import os\n",
    "import pandas as pd\n",
    "from openai import OpenAI\n",
    "from dotenv import load_dotenv\n",
    "\n",
    "# API 키 로드\n",
    "load_dotenv()\n",
    "UPSTAGE_API_KEY = os.getenv(\"UPSTAGE_API_KEY\")\n",
    "\n",
    "# Solar API 클라이언트 초기화\n",
    "client = OpenAI(\n",
    "    api_key=UPSTAGE_API_KEY,\n",
    "    base_url=\"https://api.upstage.ai/v1/solar\"\n",
    ")\n",
    "\n",
    "print(\"✅ 설정이 완료되었습니다.\")"
   ]
  },
  {
   "cell_type": "code",
   "execution_count": 4,
   "id": "e996a399",
   "metadata": {},
   "outputs": [],
   "source": [
    "# --- 여기에 3가지 프롬프트 아이디어를 채워넣으세요 ---\n",
    "\n",
    "PROMPT_IDEA_1 = \"\"\"\n",
    "Translate the following English dialogue summary into Korean.\n",
    "\n",
    "Your translation must be:\n",
    "- **Detailed and descriptive** (avoid shortening the content).\n",
    "- **Fluent and natural** in Korean.\n",
    "- **Complete sentences** should be used, not fragmented or overly simplified.\n",
    "- Keep speaker tags like #Person1#, #person2# exactly as they are.\n",
    "- Translate personal names phonetically (e.g., \"Francis\" → \"프랜시스\").\n",
    "\n",
    "Focus on maintaining all intentions, events, and emotional cues from the original. DO NOT summarize.\n",
    "\n",
    "English Text to Translate:\n",
    "\"\"\"\n",
    "\n",
    "\n",
    "PROMPT_IDEA_2 = \"\"\"\n",
    "You are a Korean language expert who specializes in summarizing everyday conversations naturally and clearly.\n",
    "\n",
    "Translate the following English summary into Korean as if you are summarizing a casual spoken conversation between two people. The tone should be natural but still clear and informative.\n",
    "\n",
    "**Guidelines:**\n",
    "1. Keep the speaker markers (e.g., #Person1#, #person2#) exactly as they are — do not translate or alter them.\n",
    "2. Translate names phonetically. Do NOT replace them with other figures or titles (e.g., \"Francis\" → \"프랜시스\").\n",
    "3. Use natural Korean phrasing, just like how people explain a conversation to a friend — but avoid slang or overly casual words.\n",
    "4. Don’t skip important details — the summary should be concise but complete enough to understand the main points.\n",
    "\n",
    "---\n",
    "\n",
    "English Text to Translate:\n",
    "\"\"\"\n",
    "\n",
    "PROMPT_IDEA_3 = \"\"\"\n",
    "You are a professional translator working on a Korean language dataset for AI training.\n",
    "\n",
    "Translate the following English summary into **natural, fluent, and detailed Korean**.\n",
    "\n",
    "**Instructions:**\n",
    "1. Keep speaker tags such as `#Person1#`, `#person2#` **exactly as they are**.\n",
    "2. Personal names must be translated **phonetically** (e.g., \"Francis\" → \"프랜시스\").\n",
    "3. Use a **formal**, full-sentence tone.\n",
    "4. DO NOT summarize or skip information. Be as detailed as the source.\n",
    "\n",
    "**Example Input:**\n",
    "\"#Person1# explained to #person2# why they were late for the meeting, and #person2# acknowledged the situation with understanding.\"\n",
    "\n",
    "**Example Output:**\n",
    "\"#Person1#은 회의에 지각한 이유를 #person2#에게 자세히 설명했고, #person2#는 그 상황을 이해하는 반응을 보였다.\"\n",
    "\n",
    "---\n",
    "\n",
    "Please translate the following English summary:\n",
    "\"\"\""
   ]
  },
  {
   "cell_type": "code",
   "execution_count": 5,
   "id": "ed5a66b4",
   "metadata": {},
   "outputs": [
    {
     "name": "stdout",
     "output_type": "stream",
     "text": [
      "✅ 번역 함수가 준비되었습니다.\n"
     ]
    }
   ],
   "source": [
    "def translate_with_prompt(text, prompt):\n",
    "    \"\"\"주어진 프롬프트를 사용하여 텍스트를 번역하는 함수\"\"\"\n",
    "    if not isinstance(text, str) or not text.strip():\n",
    "        return \"원본 텍스트 없음\"\n",
    "    \n",
    "    try:\n",
    "        response = client.chat.completions.create(\n",
    "            model=\"solar-1-mini-chat\",\n",
    "            messages=[{\"role\": \"user\", \"content\": f\"{prompt}\\n\\n---\\n\\n{text}\"}],\n",
    "            temperature=0.1\n",
    "        )\n",
    "        return response.choices[0].message.content\n",
    "    except Exception as e:\n",
    "        print(f\"API 에러 발생: {e}\")\n",
    "        return \"번역 실패\"\n",
    "\n",
    "print(\"✅ 번역 함수가 준비되었습니다.\")"
   ]
  },
  {
   "cell_type": "code",
   "execution_count": 8,
   "id": "a10a5f56",
   "metadata": {},
   "outputs": [
    {
     "name": "stdout",
     "output_type": "stream",
     "text": [
      "'../submissions/submission_20250801_124640.csv'에서 데이터를 불러와 5개 샘플을 준비했습니다.\n"
     ]
    },
    {
     "data": {
      "text/html": [
       "<div>\n",
       "<style scoped>\n",
       "    .dataframe tbody tr th:only-of-type {\n",
       "        vertical-align: middle;\n",
       "    }\n",
       "\n",
       "    .dataframe tbody tr th {\n",
       "        vertical-align: top;\n",
       "    }\n",
       "\n",
       "    .dataframe thead th {\n",
       "        text-align: right;\n",
       "    }\n",
       "</style>\n",
       "<table border=\"1\" class=\"dataframe\">\n",
       "  <thead>\n",
       "    <tr style=\"text-align: right;\">\n",
       "      <th></th>\n",
       "      <th>Unnamed: 0</th>\n",
       "      <th>fname</th>\n",
       "      <th>summary</th>\n",
       "    </tr>\n",
       "  </thead>\n",
       "  <tbody>\n",
       "    <tr>\n",
       "      <th>0</th>\n",
       "      <td>0</td>\n",
       "      <td>test_0</td>\n",
       "      <td>#Person1# and #Mrs. Dawson engage in a convers...</td>\n",
       "    </tr>\n",
       "    <tr>\n",
       "      <th>1</th>\n",
       "      <td>1</td>\n",
       "      <td>test_1</td>\n",
       "      <td>#Person1# inquires about the location of the C...</td>\n",
       "    </tr>\n",
       "    <tr>\n",
       "      <th>2</th>\n",
       "      <td>2</td>\n",
       "      <td>test_2</td>\n",
       "      <td>#Person1# informs Kate that Masha and Hero are...</td>\n",
       "    </tr>\n",
       "    <tr>\n",
       "      <th>3</th>\n",
       "      <td>3</td>\n",
       "      <td>test_3</td>\n",
       "      <td>#People1# and #Person2# engage in a conversati...</td>\n",
       "    </tr>\n",
       "    <tr>\n",
       "      <th>4</th>\n",
       "      <td>4</td>\n",
       "      <td>test_4</td>\n",
       "      <td>#Person1# and #person2# are engaged in a conve...</td>\n",
       "    </tr>\n",
       "  </tbody>\n",
       "</table>\n",
       "</div>"
      ],
      "text/plain": [
       "   Unnamed: 0   fname                                            summary\n",
       "0           0  test_0  #Person1# and #Mrs. Dawson engage in a convers...\n",
       "1           1  test_1  #Person1# inquires about the location of the C...\n",
       "2           2  test_2  #Person1# informs Kate that Masha and Hero are...\n",
       "3           3  test_3  #People1# and #Person2# engage in a conversati...\n",
       "4           4  test_4  #Person1# and #person2# are engaged in a conve..."
      ]
     },
     "metadata": {},
     "output_type": "display_data"
    }
   ],
   "source": [
    "# ⚠️ 아래 파일 이름은 실제 생성된 파일 이름으로 바꿔주세요!\n",
    "file_path = '../submissions/submission_20250801_124640.csv' \n",
    "\n",
    "try:\n",
    "    df_english = pd.read_csv(file_path)\n",
    "    # 실험을 위해 앞부분 5개만 샘플로 사용\n",
    "    df_sample = df_english.head(5).copy()\n",
    "    print(f\"'{file_path}'에서 데이터를 불러와 5개 샘플을 준비했습니다.\")\n",
    "    display(df_sample)\n",
    "except FileNotFoundError:\n",
    "    print(f\"❌ 파일을 찾을 수 없습니다: '{file_path}'\")\n",
    "    print(\"   파일 경로를 올바른지 확인해주세요.\")"
   ]
  },
  {
   "cell_type": "code",
   "execution_count": 10,
   "id": "982425eb",
   "metadata": {},
   "outputs": [
    {
     "ename": "KeyError",
     "evalue": "'test_0'",
     "output_type": "error",
     "traceback": [
      "\u001b[0;31m---------------------------------------------------------------------------\u001b[0m",
      "\u001b[0;31mKeyError\u001b[0m                                  Traceback (most recent call last)",
      "File \u001b[0;32m~/NLP_jungmin_fork/venv/lib/python3.10/site-packages/pandas/core/indexes/base.py:3805\u001b[0m, in \u001b[0;36mIndex.get_loc\u001b[0;34m(self, key)\u001b[0m\n\u001b[1;32m   3804\u001b[0m \u001b[38;5;28;01mtry\u001b[39;00m:\n\u001b[0;32m-> 3805\u001b[0m     \u001b[38;5;28;01mreturn\u001b[39;00m \u001b[38;5;28;43mself\u001b[39;49m\u001b[38;5;241;43m.\u001b[39;49m\u001b[43m_engine\u001b[49m\u001b[38;5;241;43m.\u001b[39;49m\u001b[43mget_loc\u001b[49m\u001b[43m(\u001b[49m\u001b[43mcasted_key\u001b[49m\u001b[43m)\u001b[49m\n\u001b[1;32m   3806\u001b[0m \u001b[38;5;28;01mexcept\u001b[39;00m \u001b[38;5;167;01mKeyError\u001b[39;00m \u001b[38;5;28;01mas\u001b[39;00m err:\n",
      "File \u001b[0;32mindex.pyx:167\u001b[0m, in \u001b[0;36mpandas._libs.index.IndexEngine.get_loc\u001b[0;34m()\u001b[0m\n",
      "File \u001b[0;32mindex.pyx:196\u001b[0m, in \u001b[0;36mpandas._libs.index.IndexEngine.get_loc\u001b[0;34m()\u001b[0m\n",
      "File \u001b[0;32mpandas/_libs/hashtable_class_helper.pxi:7081\u001b[0m, in \u001b[0;36mpandas._libs.hashtable.PyObjectHashTable.get_item\u001b[0;34m()\u001b[0m\n",
      "File \u001b[0;32mpandas/_libs/hashtable_class_helper.pxi:7089\u001b[0m, in \u001b[0;36mpandas._libs.hashtable.PyObjectHashTable.get_item\u001b[0;34m()\u001b[0m\n",
      "\u001b[0;31mKeyError\u001b[0m: 'test_0'",
      "\nThe above exception was the direct cause of the following exception:\n",
      "\u001b[0;31mKeyError\u001b[0m                                  Traceback (most recent call last)",
      "Cell \u001b[0;32mIn[10], line 4\u001b[0m\n\u001b[1;32m      1\u001b[0m \u001b[38;5;66;03m# print all summary content from test_0 to test_4\u001b[39;00m\n\u001b[1;32m      3\u001b[0m \u001b[38;5;28;01mfor\u001b[39;00m i \u001b[38;5;129;01min\u001b[39;00m \u001b[38;5;28mrange\u001b[39m(\u001b[38;5;241m5\u001b[39m):\n\u001b[0;32m----> 4\u001b[0m     summary \u001b[38;5;241m=\u001b[39m \u001b[43mdf_sample\u001b[49m\u001b[43m[\u001b[49m\u001b[38;5;124;43mf\u001b[39;49m\u001b[38;5;124;43m'\u001b[39;49m\u001b[38;5;124;43mtest_\u001b[39;49m\u001b[38;5;132;43;01m{\u001b[39;49;00m\u001b[43mi\u001b[49m\u001b[38;5;132;43;01m}\u001b[39;49;00m\u001b[38;5;124;43m'\u001b[39;49m\u001b[43m]\u001b[49m\u001b[38;5;241m.\u001b[39miloc[\u001b[38;5;241m0\u001b[39m]\n\u001b[1;32m      5\u001b[0m     \u001b[38;5;28mprint\u001b[39m(\u001b[38;5;124mf\u001b[39m\u001b[38;5;124m\"\u001b[39m\u001b[38;5;124mtest_\u001b[39m\u001b[38;5;132;01m{\u001b[39;00mi\u001b[38;5;132;01m}\u001b[39;00m\u001b[38;5;124m 요약: \u001b[39m\u001b[38;5;132;01m{\u001b[39;00msummary\u001b[38;5;132;01m}\u001b[39;00m\u001b[38;5;124m\"\u001b[39m)\n",
      "File \u001b[0;32m~/NLP_jungmin_fork/venv/lib/python3.10/site-packages/pandas/core/frame.py:4102\u001b[0m, in \u001b[0;36mDataFrame.__getitem__\u001b[0;34m(self, key)\u001b[0m\n\u001b[1;32m   4100\u001b[0m \u001b[38;5;28;01mif\u001b[39;00m \u001b[38;5;28mself\u001b[39m\u001b[38;5;241m.\u001b[39mcolumns\u001b[38;5;241m.\u001b[39mnlevels \u001b[38;5;241m>\u001b[39m \u001b[38;5;241m1\u001b[39m:\n\u001b[1;32m   4101\u001b[0m     \u001b[38;5;28;01mreturn\u001b[39;00m \u001b[38;5;28mself\u001b[39m\u001b[38;5;241m.\u001b[39m_getitem_multilevel(key)\n\u001b[0;32m-> 4102\u001b[0m indexer \u001b[38;5;241m=\u001b[39m \u001b[38;5;28;43mself\u001b[39;49m\u001b[38;5;241;43m.\u001b[39;49m\u001b[43mcolumns\u001b[49m\u001b[38;5;241;43m.\u001b[39;49m\u001b[43mget_loc\u001b[49m\u001b[43m(\u001b[49m\u001b[43mkey\u001b[49m\u001b[43m)\u001b[49m\n\u001b[1;32m   4103\u001b[0m \u001b[38;5;28;01mif\u001b[39;00m is_integer(indexer):\n\u001b[1;32m   4104\u001b[0m     indexer \u001b[38;5;241m=\u001b[39m [indexer]\n",
      "File \u001b[0;32m~/NLP_jungmin_fork/venv/lib/python3.10/site-packages/pandas/core/indexes/base.py:3812\u001b[0m, in \u001b[0;36mIndex.get_loc\u001b[0;34m(self, key)\u001b[0m\n\u001b[1;32m   3807\u001b[0m     \u001b[38;5;28;01mif\u001b[39;00m \u001b[38;5;28misinstance\u001b[39m(casted_key, \u001b[38;5;28mslice\u001b[39m) \u001b[38;5;129;01mor\u001b[39;00m (\n\u001b[1;32m   3808\u001b[0m         \u001b[38;5;28misinstance\u001b[39m(casted_key, abc\u001b[38;5;241m.\u001b[39mIterable)\n\u001b[1;32m   3809\u001b[0m         \u001b[38;5;129;01mand\u001b[39;00m \u001b[38;5;28many\u001b[39m(\u001b[38;5;28misinstance\u001b[39m(x, \u001b[38;5;28mslice\u001b[39m) \u001b[38;5;28;01mfor\u001b[39;00m x \u001b[38;5;129;01min\u001b[39;00m casted_key)\n\u001b[1;32m   3810\u001b[0m     ):\n\u001b[1;32m   3811\u001b[0m         \u001b[38;5;28;01mraise\u001b[39;00m InvalidIndexError(key)\n\u001b[0;32m-> 3812\u001b[0m     \u001b[38;5;28;01mraise\u001b[39;00m \u001b[38;5;167;01mKeyError\u001b[39;00m(key) \u001b[38;5;28;01mfrom\u001b[39;00m\u001b[38;5;250m \u001b[39m\u001b[38;5;21;01merr\u001b[39;00m\n\u001b[1;32m   3813\u001b[0m \u001b[38;5;28;01mexcept\u001b[39;00m \u001b[38;5;167;01mTypeError\u001b[39;00m:\n\u001b[1;32m   3814\u001b[0m     \u001b[38;5;66;03m# If we have a listlike key, _check_indexing_error will raise\u001b[39;00m\n\u001b[1;32m   3815\u001b[0m     \u001b[38;5;66;03m#  InvalidIndexError. Otherwise we fall through and re-raise\u001b[39;00m\n\u001b[1;32m   3816\u001b[0m     \u001b[38;5;66;03m#  the TypeError.\u001b[39;00m\n\u001b[1;32m   3817\u001b[0m     \u001b[38;5;28mself\u001b[39m\u001b[38;5;241m.\u001b[39m_check_indexing_error(key)\n",
      "\u001b[0;31mKeyError\u001b[0m: 'test_0'"
     ]
    }
   ],
   "source": [
    "# print all summary content from test_0 to test_4\n",
    "\n",
    "for i in range(5):\n",
    "    summary = df_sample[f'test_{i}'].iloc[0]\n",
    "    print(f\"test_{i} 요약: {summary}\")"
   ]
  },
  {
   "cell_type": "code",
   "execution_count": null,
   "id": "e18d114c",
   "metadata": {},
   "outputs": [],
   "source": []
  },
  {
   "cell_type": "code",
   "execution_count": null,
   "id": "06877d08",
   "metadata": {},
   "outputs": [],
   "source": []
  },
  {
   "cell_type": "code",
   "execution_count": null,
   "id": "4219df51",
   "metadata": {},
   "outputs": [],
   "source": []
  },
  {
   "cell_type": "code",
   "execution_count": null,
   "id": "d5cb2622",
   "metadata": {},
   "outputs": [],
   "source": []
  },
  {
   "cell_type": "code",
   "execution_count": null,
   "id": "10a13f5c",
   "metadata": {},
   "outputs": [],
   "source": []
  },
  {
   "cell_type": "code",
   "execution_count": null,
   "id": "a2edbdf0",
   "metadata": {},
   "outputs": [],
   "source": []
  },
  {
   "cell_type": "code",
   "execution_count": null,
   "metadata": {},
   "outputs": [],
   "source": []
  },
  {
   "cell_type": "code",
   "execution_count": null,
   "id": "ea1e09a3",
   "metadata": {},
   "outputs": [],
   "source": []
  }
 ],
 "metadata": {
  "kernelspec": {
   "display_name": "venv",
   "language": "python",
   "name": "python3"
  },
  "language_info": {
   "codemirror_mode": {
    "name": "ipython",
    "version": 3
   },
   "file_extension": ".py",
   "mimetype": "text/x-python",
   "name": "python",
   "nbconvert_exporter": "python",
   "pygments_lexer": "ipython3",
   "version": "3.10.13"
  }
 },
 "nbformat": 4,
 "nbformat_minor": 5
}
